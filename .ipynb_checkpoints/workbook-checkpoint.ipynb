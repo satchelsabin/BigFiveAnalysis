{
 "cells": [
  {
   "cell_type": "code",
   "execution_count": 108,
   "metadata": {},
   "outputs": [],
   "source": [
    "import numpy as np\n",
    "import pandas as pd\n",
    "import scipy.stats as stats\n",
    "import matplotlib.pyplot as plt\n",
    "import folium\n",
    "import statsmodels.stats as statsm\n",
    "sns.set()"
   ]
  },
  {
   "cell_type": "code",
   "execution_count": 2,
   "metadata": {},
   "outputs": [],
   "source": [
    "maindf=pd.read_csv('../Data/IPIP-FFM-data-8Nov2018/data-final.csv',sep='\\t')"
   ]
  },
  {
   "cell_type": "code",
   "execution_count": 5,
   "metadata": {},
   "outputs": [],
   "source": [
    "bigcountrydata=pd.read_csv('../Data/country_centroids_az8.csv')\n",
    "littlecountrydata=pd.read_csv('../Data/datasets_2312_3908_countries.csv')"
   ]
  },
  {
   "cell_type": "code",
   "execution_count": 34,
   "metadata": {},
   "outputs": [
    {
     "data": {
      "text/plain": [
       "0       1.601554\n",
       "1      53.847818\n",
       "2      67.709953\n",
       "3     -61.796428\n",
       "4     -63.068615\n",
       "         ...    \n",
       "240    48.516388\n",
       "241    45.166244\n",
       "242    22.937506\n",
       "243    27.849332\n",
       "244    29.154857\n",
       "Name: longitude, Length: 245, dtype: float64"
      ]
     },
     "execution_count": 34,
     "metadata": {},
     "output_type": "execute_result"
    }
   ],
   "source": [
    "littlecountrydata['longitude']"
   ]
  },
  {
   "cell_type": "code",
   "execution_count": 33,
   "metadata": {},
   "outputs": [
    {
     "data": {
      "text/plain": [
       "Index(['country', 'latitude', 'longitude', 'name'], dtype='object')"
      ]
     },
     "execution_count": 33,
     "metadata": {},
     "output_type": "execute_result"
    }
   ],
   "source": [
    "littlecountrydata.columns"
   ]
  },
  {
   "cell_type": "code",
   "execution_count": 36,
   "metadata": {},
   "outputs": [
    {
     "data": {
      "text/html": [
       "<div>\n",
       "<style scoped>\n",
       "    .dataframe tbody tr th:only-of-type {\n",
       "        vertical-align: middle;\n",
       "    }\n",
       "\n",
       "    .dataframe tbody tr th {\n",
       "        vertical-align: top;\n",
       "    }\n",
       "\n",
       "    .dataframe thead th {\n",
       "        text-align: right;\n",
       "    }\n",
       "</style>\n",
       "<table border=\"1\" class=\"dataframe\">\n",
       "  <thead>\n",
       "    <tr style=\"text-align: right;\">\n",
       "      <th></th>\n",
       "      <th>country</th>\n",
       "      <th>name</th>\n",
       "    </tr>\n",
       "  </thead>\n",
       "  <tbody>\n",
       "    <tr>\n",
       "      <th>0</th>\n",
       "      <td>AD</td>\n",
       "      <td>Andorra</td>\n",
       "    </tr>\n",
       "    <tr>\n",
       "      <th>1</th>\n",
       "      <td>AE</td>\n",
       "      <td>United Arab Emirates</td>\n",
       "    </tr>\n",
       "    <tr>\n",
       "      <th>2</th>\n",
       "      <td>AF</td>\n",
       "      <td>Afghanistan</td>\n",
       "    </tr>\n",
       "    <tr>\n",
       "      <th>3</th>\n",
       "      <td>AG</td>\n",
       "      <td>Antigua and Barbuda</td>\n",
       "    </tr>\n",
       "    <tr>\n",
       "      <th>4</th>\n",
       "      <td>AI</td>\n",
       "      <td>Anguilla</td>\n",
       "    </tr>\n",
       "    <tr>\n",
       "      <th>...</th>\n",
       "      <td>...</td>\n",
       "      <td>...</td>\n",
       "    </tr>\n",
       "    <tr>\n",
       "      <th>240</th>\n",
       "      <td>YE</td>\n",
       "      <td>Yemen</td>\n",
       "    </tr>\n",
       "    <tr>\n",
       "      <th>241</th>\n",
       "      <td>YT</td>\n",
       "      <td>Mayotte</td>\n",
       "    </tr>\n",
       "    <tr>\n",
       "      <th>242</th>\n",
       "      <td>ZA</td>\n",
       "      <td>South Africa</td>\n",
       "    </tr>\n",
       "    <tr>\n",
       "      <th>243</th>\n",
       "      <td>ZM</td>\n",
       "      <td>Zambia</td>\n",
       "    </tr>\n",
       "    <tr>\n",
       "      <th>244</th>\n",
       "      <td>ZW</td>\n",
       "      <td>Zimbabwe</td>\n",
       "    </tr>\n",
       "  </tbody>\n",
       "</table>\n",
       "<p>245 rows × 2 columns</p>\n",
       "</div>"
      ],
      "text/plain": [
       "    country                  name\n",
       "0        AD               Andorra\n",
       "1        AE  United Arab Emirates\n",
       "2        AF           Afghanistan\n",
       "3        AG   Antigua and Barbuda\n",
       "4        AI              Anguilla\n",
       "..      ...                   ...\n",
       "240      YE                 Yemen\n",
       "241      YT               Mayotte\n",
       "242      ZA          South Africa\n",
       "243      ZM                Zambia\n",
       "244      ZW              Zimbabwe\n",
       "\n",
       "[245 rows x 2 columns]"
      ]
     },
     "execution_count": 36,
     "metadata": {},
     "output_type": "execute_result"
    }
   ],
   "source": [
    "littlecountrydata[['country','name']]\n"
   ]
  },
  {
   "cell_type": "code",
   "execution_count": 9,
   "metadata": {},
   "outputs": [
    {
     "data": {
      "text/plain": [
       "Index(['EXT1', 'EXT2', 'EXT3', 'EXT4', 'EXT5', 'EXT6', 'EXT7', 'EXT8', 'EXT9',\n",
       "       'EXT10',\n",
       "       ...\n",
       "       'screenh', 'introelapse', 'testelapse', 'endelapse', 'IPC', 'country',\n",
       "       'lat_appx_lots_of_err', 'long_appx_lots_of_err', 'country_USnot_Filter',\n",
       "       'country_US0_Filter'],\n",
       "      dtype='object', length=112)"
      ]
     },
     "execution_count": 9,
     "metadata": {},
     "output_type": "execute_result"
    }
   ],
   "source": [
    "maindf.columns"
   ]
  },
  {
   "cell_type": "code",
   "execution_count": 12,
   "metadata": {},
   "outputs": [
    {
     "data": {
      "text/html": [
       "<div>\n",
       "<style scoped>\n",
       "    .dataframe tbody tr th:only-of-type {\n",
       "        vertical-align: middle;\n",
       "    }\n",
       "\n",
       "    .dataframe tbody tr th {\n",
       "        vertical-align: top;\n",
       "    }\n",
       "\n",
       "    .dataframe thead th {\n",
       "        text-align: right;\n",
       "    }\n",
       "</style>\n",
       "<table border=\"1\" class=\"dataframe\">\n",
       "  <thead>\n",
       "    <tr style=\"text-align: right;\">\n",
       "      <th></th>\n",
       "      <th>EXT1</th>\n",
       "      <th>EXT2</th>\n",
       "      <th>EXT3</th>\n",
       "      <th>EXT4</th>\n",
       "      <th>EXT5</th>\n",
       "      <th>EXT6</th>\n",
       "      <th>EXT7</th>\n",
       "      <th>EXT8</th>\n",
       "      <th>EXT9</th>\n",
       "      <th>EXT10</th>\n",
       "      <th>...</th>\n",
       "      <th>OPN7_E</th>\n",
       "      <th>OPN8_E</th>\n",
       "      <th>OPN9_E</th>\n",
       "      <th>OPN10_E</th>\n",
       "      <th>screenw</th>\n",
       "      <th>screenh</th>\n",
       "      <th>introelapse</th>\n",
       "      <th>testelapse</th>\n",
       "      <th>endelapse</th>\n",
       "      <th>IPC</th>\n",
       "    </tr>\n",
       "  </thead>\n",
       "  <tbody>\n",
       "    <tr>\n",
       "      <th>count</th>\n",
       "      <td>1.013558e+06</td>\n",
       "      <td>1.013558e+06</td>\n",
       "      <td>1.013558e+06</td>\n",
       "      <td>1.013558e+06</td>\n",
       "      <td>1.013558e+06</td>\n",
       "      <td>1.013558e+06</td>\n",
       "      <td>1.013558e+06</td>\n",
       "      <td>1.013558e+06</td>\n",
       "      <td>1.013558e+06</td>\n",
       "      <td>1.013558e+06</td>\n",
       "      <td>...</td>\n",
       "      <td>1.013558e+06</td>\n",
       "      <td>1.013558e+06</td>\n",
       "      <td>1.013558e+06</td>\n",
       "      <td>1.013558e+06</td>\n",
       "      <td>1.013275e+06</td>\n",
       "      <td>1.013275e+06</td>\n",
       "      <td>1.013275e+06</td>\n",
       "      <td>1.013558e+06</td>\n",
       "      <td>1.015341e+06</td>\n",
       "      <td>1.015341e+06</td>\n",
       "    </tr>\n",
       "    <tr>\n",
       "      <th>mean</th>\n",
       "      <td>2.648067e+00</td>\n",
       "      <td>2.773115e+00</td>\n",
       "      <td>3.288349e+00</td>\n",
       "      <td>3.140595e+00</td>\n",
       "      <td>3.276960e+00</td>\n",
       "      <td>2.401100e+00</td>\n",
       "      <td>2.771744e+00</td>\n",
       "      <td>3.414818e+00</td>\n",
       "      <td>2.963740e+00</td>\n",
       "      <td>3.556469e+00</td>\n",
       "      <td>...</td>\n",
       "      <td>7.689488e+03</td>\n",
       "      <td>5.423945e+03</td>\n",
       "      <td>6.325802e+03</td>\n",
       "      <td>5.336311e+03</td>\n",
       "      <td>1.149510e+03</td>\n",
       "      <td>8.262611e+02</td>\n",
       "      <td>9.590748e+02</td>\n",
       "      <td>6.754233e+02</td>\n",
       "      <td>2.701410e+03</td>\n",
       "      <td>1.045211e+01</td>\n",
       "    </tr>\n",
       "    <tr>\n",
       "      <th>std</th>\n",
       "      <td>1.264407e+00</td>\n",
       "      <td>1.323943e+00</td>\n",
       "      <td>1.215006e+00</td>\n",
       "      <td>1.237442e+00</td>\n",
       "      <td>1.277593e+00</td>\n",
       "      <td>1.225721e+00</td>\n",
       "      <td>1.400336e+00</td>\n",
       "      <td>1.271915e+00</td>\n",
       "      <td>1.346040e+00</td>\n",
       "      <td>1.305232e+00</td>\n",
       "      <td>...</td>\n",
       "      <td>5.841987e+05</td>\n",
       "      <td>2.629748e+05</td>\n",
       "      <td>4.298906e+05</td>\n",
       "      <td>4.408225e+05</td>\n",
       "      <td>5.600884e+02</td>\n",
       "      <td>1.802490e+02</td>\n",
       "      <td>5.104005e+04</td>\n",
       "      <td>2.017864e+04</td>\n",
       "      <td>1.483898e+06</td>\n",
       "      <td>3.982879e+01</td>\n",
       "    </tr>\n",
       "    <tr>\n",
       "      <th>min</th>\n",
       "      <td>0.000000e+00</td>\n",
       "      <td>0.000000e+00</td>\n",
       "      <td>0.000000e+00</td>\n",
       "      <td>0.000000e+00</td>\n",
       "      <td>0.000000e+00</td>\n",
       "      <td>0.000000e+00</td>\n",
       "      <td>0.000000e+00</td>\n",
       "      <td>0.000000e+00</td>\n",
       "      <td>0.000000e+00</td>\n",
       "      <td>0.000000e+00</td>\n",
       "      <td>...</td>\n",
       "      <td>-6.181300e+04</td>\n",
       "      <td>-5.001200e+04</td>\n",
       "      <td>-9.598600e+04</td>\n",
       "      <td>-3.594871e+06</td>\n",
       "      <td>0.000000e+00</td>\n",
       "      <td>0.000000e+00</td>\n",
       "      <td>0.000000e+00</td>\n",
       "      <td>1.000000e+00</td>\n",
       "      <td>1.000000e+00</td>\n",
       "      <td>1.000000e+00</td>\n",
       "    </tr>\n",
       "    <tr>\n",
       "      <th>25%</th>\n",
       "      <td>1.000000e+00</td>\n",
       "      <td>2.000000e+00</td>\n",
       "      <td>2.000000e+00</td>\n",
       "      <td>2.000000e+00</td>\n",
       "      <td>2.000000e+00</td>\n",
       "      <td>1.000000e+00</td>\n",
       "      <td>2.000000e+00</td>\n",
       "      <td>2.000000e+00</td>\n",
       "      <td>2.000000e+00</td>\n",
       "      <td>3.000000e+00</td>\n",
       "      <td>...</td>\n",
       "      <td>2.279000e+03</td>\n",
       "      <td>2.144000e+03</td>\n",
       "      <td>2.329000e+03</td>\n",
       "      <td>1.484000e+03</td>\n",
       "      <td>4.140000e+02</td>\n",
       "      <td>7.200000e+02</td>\n",
       "      <td>5.000000e+00</td>\n",
       "      <td>1.710000e+02</td>\n",
       "      <td>9.000000e+00</td>\n",
       "      <td>1.000000e+00</td>\n",
       "    </tr>\n",
       "    <tr>\n",
       "      <th>50%</th>\n",
       "      <td>3.000000e+00</td>\n",
       "      <td>3.000000e+00</td>\n",
       "      <td>3.000000e+00</td>\n",
       "      <td>3.000000e+00</td>\n",
       "      <td>3.000000e+00</td>\n",
       "      <td>2.000000e+00</td>\n",
       "      <td>3.000000e+00</td>\n",
       "      <td>4.000000e+00</td>\n",
       "      <td>3.000000e+00</td>\n",
       "      <td>4.000000e+00</td>\n",
       "      <td>...</td>\n",
       "      <td>3.208000e+03</td>\n",
       "      <td>3.051000e+03</td>\n",
       "      <td>3.269000e+03</td>\n",
       "      <td>2.192000e+03</td>\n",
       "      <td>1.366000e+03</td>\n",
       "      <td>7.680000e+02</td>\n",
       "      <td>1.000000e+01</td>\n",
       "      <td>2.240000e+02</td>\n",
       "      <td>1.300000e+01</td>\n",
       "      <td>1.000000e+00</td>\n",
       "    </tr>\n",
       "    <tr>\n",
       "      <th>75%</th>\n",
       "      <td>4.000000e+00</td>\n",
       "      <td>4.000000e+00</td>\n",
       "      <td>4.000000e+00</td>\n",
       "      <td>4.000000e+00</td>\n",
       "      <td>4.000000e+00</td>\n",
       "      <td>3.000000e+00</td>\n",
       "      <td>4.000000e+00</td>\n",
       "      <td>4.000000e+00</td>\n",
       "      <td>4.000000e+00</td>\n",
       "      <td>5.000000e+00</td>\n",
       "      <td>...</td>\n",
       "      <td>4.729000e+03</td>\n",
       "      <td>4.469000e+03</td>\n",
       "      <td>4.785000e+03</td>\n",
       "      <td>3.362000e+03</td>\n",
       "      <td>1.440000e+03</td>\n",
       "      <td>9.000000e+02</td>\n",
       "      <td>3.000000e+01</td>\n",
       "      <td>3.130000e+02</td>\n",
       "      <td>1.800000e+01</td>\n",
       "      <td>2.000000e+00</td>\n",
       "    </tr>\n",
       "    <tr>\n",
       "      <th>max</th>\n",
       "      <td>5.000000e+00</td>\n",
       "      <td>5.000000e+00</td>\n",
       "      <td>5.000000e+00</td>\n",
       "      <td>5.000000e+00</td>\n",
       "      <td>5.000000e+00</td>\n",
       "      <td>5.000000e+00</td>\n",
       "      <td>5.000000e+00</td>\n",
       "      <td>5.000000e+00</td>\n",
       "      <td>5.000000e+00</td>\n",
       "      <td>5.000000e+00</td>\n",
       "      <td>...</td>\n",
       "      <td>3.891434e+08</td>\n",
       "      <td>1.696693e+08</td>\n",
       "      <td>3.470326e+08</td>\n",
       "      <td>3.344289e+08</td>\n",
       "      <td>1.366000e+04</td>\n",
       "      <td>8.802000e+03</td>\n",
       "      <td>2.944307e+07</td>\n",
       "      <td>1.189272e+07</td>\n",
       "      <td>1.493327e+09</td>\n",
       "      <td>7.250000e+02</td>\n",
       "    </tr>\n",
       "  </tbody>\n",
       "</table>\n",
       "<p>8 rows × 106 columns</p>\n",
       "</div>"
      ],
      "text/plain": [
       "               EXT1          EXT2          EXT3          EXT4          EXT5  \\\n",
       "count  1.013558e+06  1.013558e+06  1.013558e+06  1.013558e+06  1.013558e+06   \n",
       "mean   2.648067e+00  2.773115e+00  3.288349e+00  3.140595e+00  3.276960e+00   \n",
       "std    1.264407e+00  1.323943e+00  1.215006e+00  1.237442e+00  1.277593e+00   \n",
       "min    0.000000e+00  0.000000e+00  0.000000e+00  0.000000e+00  0.000000e+00   \n",
       "25%    1.000000e+00  2.000000e+00  2.000000e+00  2.000000e+00  2.000000e+00   \n",
       "50%    3.000000e+00  3.000000e+00  3.000000e+00  3.000000e+00  3.000000e+00   \n",
       "75%    4.000000e+00  4.000000e+00  4.000000e+00  4.000000e+00  4.000000e+00   \n",
       "max    5.000000e+00  5.000000e+00  5.000000e+00  5.000000e+00  5.000000e+00   \n",
       "\n",
       "               EXT6          EXT7          EXT8          EXT9         EXT10  \\\n",
       "count  1.013558e+06  1.013558e+06  1.013558e+06  1.013558e+06  1.013558e+06   \n",
       "mean   2.401100e+00  2.771744e+00  3.414818e+00  2.963740e+00  3.556469e+00   \n",
       "std    1.225721e+00  1.400336e+00  1.271915e+00  1.346040e+00  1.305232e+00   \n",
       "min    0.000000e+00  0.000000e+00  0.000000e+00  0.000000e+00  0.000000e+00   \n",
       "25%    1.000000e+00  2.000000e+00  2.000000e+00  2.000000e+00  3.000000e+00   \n",
       "50%    2.000000e+00  3.000000e+00  4.000000e+00  3.000000e+00  4.000000e+00   \n",
       "75%    3.000000e+00  4.000000e+00  4.000000e+00  4.000000e+00  5.000000e+00   \n",
       "max    5.000000e+00  5.000000e+00  5.000000e+00  5.000000e+00  5.000000e+00   \n",
       "\n",
       "       ...        OPN7_E        OPN8_E        OPN9_E       OPN10_E  \\\n",
       "count  ...  1.013558e+06  1.013558e+06  1.013558e+06  1.013558e+06   \n",
       "mean   ...  7.689488e+03  5.423945e+03  6.325802e+03  5.336311e+03   \n",
       "std    ...  5.841987e+05  2.629748e+05  4.298906e+05  4.408225e+05   \n",
       "min    ... -6.181300e+04 -5.001200e+04 -9.598600e+04 -3.594871e+06   \n",
       "25%    ...  2.279000e+03  2.144000e+03  2.329000e+03  1.484000e+03   \n",
       "50%    ...  3.208000e+03  3.051000e+03  3.269000e+03  2.192000e+03   \n",
       "75%    ...  4.729000e+03  4.469000e+03  4.785000e+03  3.362000e+03   \n",
       "max    ...  3.891434e+08  1.696693e+08  3.470326e+08  3.344289e+08   \n",
       "\n",
       "            screenw       screenh   introelapse    testelapse     endelapse  \\\n",
       "count  1.013275e+06  1.013275e+06  1.013275e+06  1.013558e+06  1.015341e+06   \n",
       "mean   1.149510e+03  8.262611e+02  9.590748e+02  6.754233e+02  2.701410e+03   \n",
       "std    5.600884e+02  1.802490e+02  5.104005e+04  2.017864e+04  1.483898e+06   \n",
       "min    0.000000e+00  0.000000e+00  0.000000e+00  1.000000e+00  1.000000e+00   \n",
       "25%    4.140000e+02  7.200000e+02  5.000000e+00  1.710000e+02  9.000000e+00   \n",
       "50%    1.366000e+03  7.680000e+02  1.000000e+01  2.240000e+02  1.300000e+01   \n",
       "75%    1.440000e+03  9.000000e+02  3.000000e+01  3.130000e+02  1.800000e+01   \n",
       "max    1.366000e+04  8.802000e+03  2.944307e+07  1.189272e+07  1.493327e+09   \n",
       "\n",
       "                IPC  \n",
       "count  1.015341e+06  \n",
       "mean   1.045211e+01  \n",
       "std    3.982879e+01  \n",
       "min    1.000000e+00  \n",
       "25%    1.000000e+00  \n",
       "50%    1.000000e+00  \n",
       "75%    2.000000e+00  \n",
       "max    7.250000e+02  \n",
       "\n",
       "[8 rows x 106 columns]"
      ]
     },
     "execution_count": 12,
     "metadata": {},
     "output_type": "execute_result"
    }
   ],
   "source": [
    "maindf.describe()"
   ]
  },
  {
   "cell_type": "code",
   "execution_count": 3,
   "metadata": {},
   "outputs": [
    {
     "name": "stdout",
     "output_type": "stream",
     "text": [
      "CSN2_E\n"
     ]
    }
   ],
   "source": [
    "\n",
    "#['EXT','EST','AGR','CSN','OPN']"
   ]
  },
  {
   "cell_type": "code",
   "execution_count": 46,
   "metadata": {},
   "outputs": [],
   "source": [
    "def make_df(df,string, mode='base'):\n",
    "    if mode=='base':\n",
    "        lst=[f'{string}{i}' for i in range(1,11)]\n",
    "    if mode=='time':\n",
    "        lst=[f'{string}{i}_E' for i in range(1,11)]\n",
    "    return df[lst]\n",
    "\n",
    "def make_mean(df,lst,mode='base'):\n",
    "    '''Creates a mean based on a users total responses to each unique trait.\n",
    "        Outputs means as new columns in original database\n",
    "        Input-\n",
    "            df= dataframe, lst= list of names of traits (3 letters), mode= ['base','time']\n",
    "        Output-\n",
    "            df with new mean column'''\n",
    "    \n",
    "    for i in lst:    \n",
    "        dfv=make_df(df,i,mode)            \n",
    "        if mode =='base':\n",
    "            df[f'Mean_{i}']=dfv.mean(axis=1)\n",
    "        if mode =='time':\n",
    "            df[f'Mean_{i}E']=dfv.mean(axis=1)    \n",
    "    return df\n",
    "\n",
    "def radius_function(df,country):\n",
    "    '''Takes ratio of total responses from the survey and normalizes them to the total amount of responses\n",
    "        Input:\n",
    "            df=Main dataframe\n",
    "            country=string\n",
    "        Output:\n",
    "            radius= (float) respective size of that point in the datafram'''\n",
    "    radius=(df['country'].value_counts()[f'{country}']/df.shape[0])*100+5\n",
    "    if radius >17:\n",
    "        radius=17\n",
    "    return radius\n",
    "\n",
    "def std_lst(df,trait_lst):\n",
    "    std_lst=[]\n",
    "    for i in trait_lst:\n",
    "        std_lst_row=[]\n",
    "        for j in range(1,11):\n",
    "            x=df[f'{i}{j}'].std()\n",
    "            std_lst_row.append(x)\n",
    "        std_lst.append(std_lst_row)\n",
    "    return std_lst\n",
    "\n",
    "def heatmap_lst(df,trait_lst):\n",
    "    mean_lst=[]\n",
    "    for i in trait_lst:\n",
    "        mean_lst_row=[]\n",
    "        for j in range(1,11):\n",
    "            mean_lst_row.append(df[f'{i}{j}'].mean())\n",
    "        mean_lst.append(mean_lst_row)\n",
    "    return mean_lst\n",
    "\n",
    "def new_heatmap_lst(df,trait_lst,fil):\n",
    "    mean_lst=[]\n",
    "    for i in trait_lst:\n",
    "        mean_lst_row=[]\n",
    "        for j in range(1,11):\n",
    "            x=df[f'{i}{j}'].mean()\n",
    "            if x<fil:\n",
    "                x=6-x\n",
    "            mean_lst_row.append(x)\n",
    "        mean_lst.append(mean_lst_row)\n",
    "    return mean_lst\n",
    "\n",
    "def list_amal(list1,list2):\n",
    "    x=np.array(list1)\n",
    "    y=np.array(list2)\n",
    "    final=x-y\n",
    "    return final.tolist()\n",
    "\n",
    "def country_trait(df,country):\n",
    "    '''Takes ratio of total responses from the survey and normalizes them to the total amount of responses\n",
    "       Input:\n",
    "            df=Main dataframe\n",
    "            country=string\n",
    "       Output:\n",
    "            radius= (float) respective size of that point in the datafram'''\n",
    "    \n",
    "    traitlist=['EXT','EST','OPN','AGR','CSN']\n",
    "    tempdf=df[df['country']==country]\n",
    "    country_valuelist=filtered_heatmaplst(tempdf,traitlist)\n",
    "    finallist=[]\n",
    "    for i in country_valuelist:\n",
    "        finallist.append(np.mean(i))       \n",
    "    \n",
    "    return finallist"
   ]
  },
  {
   "cell_type": "code",
   "execution_count": 4,
   "metadata": {},
   "outputs": [],
   "source": [
    "NUS_df=filter_function(maindf,'country','US','not')\n",
    "US_df=filter_function(maindf,'country','US')"
   ]
  },
  {
   "cell_type": "code",
   "execution_count": null,
   "metadata": {},
   "outputs": [],
   "source": [
    "\n",
    "traitlst=['EXT','EST','AGR','CSN','OPN']\n",
    "make_mean(maindf,traitlst)\n"
   ]
  },
  {
   "cell_type": "code",
   "execution_count": 9,
   "metadata": {},
   "outputs": [
    {
     "data": {
      "text/html": [
       "<div>\n",
       "<style scoped>\n",
       "    .dataframe tbody tr th:only-of-type {\n",
       "        vertical-align: middle;\n",
       "    }\n",
       "\n",
       "    .dataframe tbody tr th {\n",
       "        vertical-align: top;\n",
       "    }\n",
       "\n",
       "    .dataframe thead th {\n",
       "        text-align: right;\n",
       "    }\n",
       "</style>\n",
       "<table border=\"1\" class=\"dataframe\">\n",
       "  <thead>\n",
       "    <tr style=\"text-align: right;\">\n",
       "      <th></th>\n",
       "      <th>Mean_EXT</th>\n",
       "      <th>Mean_EST</th>\n",
       "      <th>Mean_AGR</th>\n",
       "      <th>Mean_CSN</th>\n",
       "      <th>Mean_OPN</th>\n",
       "    </tr>\n",
       "  </thead>\n",
       "  <tbody>\n",
       "    <tr>\n",
       "      <th>0</th>\n",
       "      <td>3.0</td>\n",
       "      <td>2.4</td>\n",
       "      <td>3.1</td>\n",
       "      <td>3.2</td>\n",
       "      <td>3.3</td>\n",
       "    </tr>\n",
       "    <tr>\n",
       "      <th>1</th>\n",
       "      <td>3.4</td>\n",
       "      <td>2.1</td>\n",
       "      <td>3.2</td>\n",
       "      <td>3.1</td>\n",
       "      <td>2.7</td>\n",
       "    </tr>\n",
       "    <tr>\n",
       "      <th>2</th>\n",
       "      <td>2.9</td>\n",
       "      <td>2.6</td>\n",
       "      <td>2.8</td>\n",
       "      <td>2.8</td>\n",
       "      <td>3.1</td>\n",
       "    </tr>\n",
       "    <tr>\n",
       "      <th>3</th>\n",
       "      <td>2.6</td>\n",
       "      <td>2.7</td>\n",
       "      <td>3.2</td>\n",
       "      <td>2.7</td>\n",
       "      <td>3.1</td>\n",
       "    </tr>\n",
       "    <tr>\n",
       "      <th>4</th>\n",
       "      <td>3.5</td>\n",
       "      <td>2.3</td>\n",
       "      <td>3.0</td>\n",
       "      <td>3.2</td>\n",
       "      <td>3.6</td>\n",
       "    </tr>\n",
       "    <tr>\n",
       "      <th>...</th>\n",
       "      <td>...</td>\n",
       "      <td>...</td>\n",
       "      <td>...</td>\n",
       "      <td>...</td>\n",
       "      <td>...</td>\n",
       "    </tr>\n",
       "    <tr>\n",
       "      <th>1015336</th>\n",
       "      <td>3.2</td>\n",
       "      <td>3.3</td>\n",
       "      <td>3.6</td>\n",
       "      <td>3.1</td>\n",
       "      <td>2.9</td>\n",
       "    </tr>\n",
       "    <tr>\n",
       "      <th>1015337</th>\n",
       "      <td>3.4</td>\n",
       "      <td>4.0</td>\n",
       "      <td>3.3</td>\n",
       "      <td>2.8</td>\n",
       "      <td>3.3</td>\n",
       "    </tr>\n",
       "    <tr>\n",
       "      <th>1015338</th>\n",
       "      <td>3.3</td>\n",
       "      <td>2.7</td>\n",
       "      <td>3.5</td>\n",
       "      <td>3.3</td>\n",
       "      <td>3.6</td>\n",
       "    </tr>\n",
       "    <tr>\n",
       "      <th>1015339</th>\n",
       "      <td>2.8</td>\n",
       "      <td>3.3</td>\n",
       "      <td>3.1</td>\n",
       "      <td>3.0</td>\n",
       "      <td>3.5</td>\n",
       "    </tr>\n",
       "    <tr>\n",
       "      <th>1015340</th>\n",
       "      <td>3.1</td>\n",
       "      <td>2.9</td>\n",
       "      <td>3.4</td>\n",
       "      <td>2.8</td>\n",
       "      <td>3.5</td>\n",
       "    </tr>\n",
       "  </tbody>\n",
       "</table>\n",
       "<p>1015341 rows × 5 columns</p>\n",
       "</div>"
      ],
      "text/plain": [
       "         Mean_EXT  Mean_EST  Mean_AGR  Mean_CSN  Mean_OPN\n",
       "0             3.0       2.4       3.1       3.2       3.3\n",
       "1             3.4       2.1       3.2       3.1       2.7\n",
       "2             2.9       2.6       2.8       2.8       3.1\n",
       "3             2.6       2.7       3.2       2.7       3.1\n",
       "4             3.5       2.3       3.0       3.2       3.6\n",
       "...           ...       ...       ...       ...       ...\n",
       "1015336       3.2       3.3       3.6       3.1       2.9\n",
       "1015337       3.4       4.0       3.3       2.8       3.3\n",
       "1015338       3.3       2.7       3.5       3.3       3.6\n",
       "1015339       2.8       3.3       3.1       3.0       3.5\n",
       "1015340       3.1       2.9       3.4       2.8       3.5\n",
       "\n",
       "[1015341 rows x 5 columns]"
      ]
     },
     "execution_count": 9,
     "metadata": {},
     "output_type": "execute_result"
    }
   ],
   "source": [
    "maindf[['Mean_EXT','Mean_EST','Mean_AGR','Mean_CSN','Mean_OPN']]\n"
   ]
  },
  {
   "cell_type": "code",
   "execution_count": 44,
   "metadata": {},
   "outputs": [
    {
     "name": "stdout",
     "output_type": "stream",
     "text": [
      "468861\n"
     ]
    },
    {
     "data": {
      "text/plain": [
       "<matplotlib.axes._subplots.AxesSubplot at 0x7f0e7f65db90>"
      ]
     },
     "execution_count": 44,
     "metadata": {},
     "output_type": "execute_result"
    },
    {
     "data": {
      "image/png": "[encoded data removed]",
      "text/plain": [
       "<Figure size 1440x720 with 1 Axes>"
      ]
     },
     "metadata": {},
     "output_type": "display_data"
    }
   ],
   "source": [
    "Others=0\n",
    "countrydf['Others']=0\n",
    "for i in countrydf.index:\n",
    "    if i !='US':\n",
    "        Others=countrydf[i]\n",
    "print(NotUS)\n",
    "countrydf['Others']=NotUS\n",
    "plt.figure(figsize=(20,10))\n",
    "countrydf[['Others','US']].plot.bar(title=\"Responses: US vs Others\")\n"
   ]
  },
  {
   "cell_type": "code",
   "execution_count": 8,
   "metadata": {},
   "outputs": [
    {
     "data": {
      "text/html": [
       "<div style=\"width:100%;\"><div style=\"position:relative;width:100%;height:0;padding-bottom:60%;\"><span style=\"color:#565656\">Make this Notebook Trusted to load map: File -> Trust Notebook</span><iframe src=\"about:blank\" style=\"position:absolute;width:100%;height:100%;left:0;top:0;border:none !important;\" data-html=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 onload=\"this.contentDocument.open();this.contentDocument.write(atob(this.getAttribute('data-html')));this.contentDocument.close();\" allowfullscreen webkitallowfullscreen mozallowfullscreen></iframe></div></div>"
      ],
      "text/plain": [
       "<folium.folium.Map at 0x7fcd34d55e10>"
      ]
     },
     "execution_count": 8,
     "metadata": {},
     "output_type": "execute_result"
    }
   ],
   "source": [
    "lcd=littlecountrydata.dropna()\n",
    "\n",
    "Map = folium.Map(location=[0,0], zoom_start = 2)\n",
    "for i in range(lcd.shape[0]):\n",
    "    try:\n",
    "        country=lcd.country[i]\n",
    "        counts=maindf['country'].value_counts()[f'{country}']\n",
    "        if counts<1000:\n",
    "            continue\n",
    "        \n",
    "        y= lcd['longitude'][i]\n",
    "        x= lcd['latitude'][i]\n",
    "        (folium.CircleMarker((x, y),\n",
    "         popup=f'Country: {lcd.name[i]}\\nResponses: {counts}\\nEstimated Major Trait:',\n",
    "         radius=radius_function(maindf,country),fill=True,\n",
    "        fill_color='#3186cc').add_to(Map)\n",
    "        )\n",
    "    except KeyError or SyntaxError:\n",
    "        continue\n",
    "Map"
   ]
  },
  {
   "cell_type": "code",
   "execution_count": null,
   "metadata": {},
   "outputs": [],
   "source": []
  },
  {
   "cell_type": "code",
   "execution_count": null,
   "metadata": {},
   "outputs": [],
   "source": [
    "def color_maker(trait_values,country):"
   ]
  },
  {
   "cell_type": "code",
   "execution_count": null,
   "metadata": {},
   "outputs": [],
   "source": [
    "\n",
    "heatplotdf=pd.DataFrame(data, columns = ['Name', 'Age']) "
   ]
  },
  {
   "cell_type": "code",
   "execution_count": 66,
   "metadata": {},
   "outputs": [
    {
     "data": {
      "image/png": "[encoded data removed]",
      "text/plain": [
       "<Figure size 1440x720 with 2 Axes>"
      ]
     },
     "metadata": {},
     "output_type": "display_data"
    }
   ],
   "source": [
    "\n",
    "plt.figure(figsize=(20,10))\n",
    "traitlist=['EXT', 'EST', 'OPN', 'CSN','AGR']\n",
    "meanlst=heatmap_lst(maindf,traitlist)\n",
    "df = pd.DataFrame(meanlst,\n",
    "                  columns=[f'Question_{i}' for i in range (1,11)],\n",
    "                  index=traitlist\n",
    "                  )\n",
    " \n",
    "plt.imshow(df, cmap=\"YlGnBu\",vmin=1,vmax=5)\n",
    "plt.colorbar()\n",
    "plt.xticks(range(len(df.columns)),df.columns)\n",
    "plt.yticks(range(len(df)),df.index)\n",
    "plt.title('Question Correlation',fontsize=20,fontweight=5)\n",
    "plt.show()\n"
   ]
  },
  {
   "cell_type": "code",
   "execution_count": 35,
   "metadata": {},
   "outputs": [
    {
     "data": {
      "text/plain": [
       "2.6480665142004702"
      ]
     },
     "execution_count": 35,
     "metadata": {},
     "output_type": "execute_result"
    }
   ],
   "source": [
    "maindf['EXT1'].mean()"
   ]
  },
  {
   "cell_type": "code",
   "execution_count": 37,
   "metadata": {},
   "outputs": [],
   "source": []
  },
  {
   "cell_type": "code",
   "execution_count": 67,
   "metadata": {},
   "outputs": [
    {
     "data": {
      "image/png": "[encoded data removed]",
      "text/plain": [
       "<Figure size 1440x720 with 2 Axes>"
      ]
     },
     "metadata": {},
     "output_type": "display_data"
    }
   ],
   "source": [
    "\n",
    "plt.figure(figsize=(20,10))\n",
    "traitlist=['EXT', 'EST', 'OPN', 'CSN','AGR']\n",
    "meanlst=new_heatmap_lst(maindf,traitlist,2.4)\n",
    "df = pd.DataFrame(meanlst,\n",
    "                  columns=[f'Question_{i}' for i in range (1,11)],\n",
    "                  index=traitlist\n",
    "                  )\n",
    " \n",
    "plt.imshow(df, cmap=\"YlGnBu\", vmin=1,vmax=5)\n",
    "plt.colorbar()\n",
    "plt.xticks(range(len(df.columns)),df.columns)\n",
    "plt.yticks(range(len(df)),df.index)\n",
    "plt.title('Question Correlation',fontsize=20,fontweight=5)\n",
    "plt.show()\n"
   ]
  },
  {
   "cell_type": "code",
   "execution_count": 49,
   "metadata": {},
   "outputs": [
    {
     "name": "stdout",
     "output_type": "stream",
     "text": [
      "[3.0234955473687743, 3.0241396150984947, 3.871744290903925, 3.123387709435474, 3.759059471682923]\n"
     ]
    }
   ],
   "source": []
  },
  {
   "cell_type": "code",
   "execution_count": 14,
   "metadata": {},
   "outputs": [],
   "source": [
    "maindf['Is_US']=np.where(maindf.country=='US',True,False)"
   ]
  },
  {
   "cell_type": "code",
   "execution_count": 26,
   "metadata": {},
   "outputs": [],
   "source": [
    "USdf=maindf[maindf['Is_US']==True]"
   ]
  },
  {
   "cell_type": "code",
   "execution_count": 84,
   "metadata": {},
   "outputs": [
    {
     "data": {
      "image/png": "[encoded data removed]",
      "text/plain": [
       "<Figure size 1440x720 with 2 Axes>"
      ]
     },
     "metadata": {},
     "output_type": "display_data"
    }
   ],
   "source": [
    "\n",
    "plt.figure(figsize=(20,10))\n",
    "traitlist=['EXT', 'EST', 'OPN', 'CSN','AGR']\n",
    "USmeanlst=new_heatmap_lst(USdf,traitlist,2.4)\n",
    "df = pd.DataFrame(USmeanlst,\n",
    "                  columns=[f'Question_{i}' for i in range (1,11)],\n",
    "                  index=traitlist\n",
    "                  )\n",
    " \n",
    "plt.imshow(df, cmap=\"YlGnBu\", vmin=1,vmax=5)\n",
    "plt.colorbar()\n",
    "plt.xticks(range(len(df.columns)),df.columns)\n",
    "plt.yticks(range(len(df)),df.index)\n",
    "plt.title('US Question Correlation',fontsize=20,fontweight=5)\n",
    "plt.show()\n"
   ]
  },
  {
   "cell_type": "code",
   "execution_count": 22,
   "metadata": {},
   "outputs": [],
   "source": [
    "Not_USdf=maindf[maindf['Is_US']==False]"
   ]
  },
  {
   "cell_type": "code",
   "execution_count": 82,
   "metadata": {},
   "outputs": [
    {
     "data": {
      "image/png": "[encoded data removed]",
      "text/plain": [
       "<Figure size 1440x720 with 2 Axes>"
      ]
     },
     "metadata": {},
     "output_type": "display_data"
    }
   ],
   "source": [
    "plt.figure(figsize=(20,10))\n",
    "traitlist=['EXT', 'EST', 'OPN', 'CSN','AGR']\n",
    "NotUSlst=new_heatmap_lst(Not_USdf,traitlist,2.5)\n",
    "df2 = pd.DataFrame(NotUSlst,\n",
    "                  columns=[f'Question_{i}' for i in range (1,11)],\n",
    "                  index=traitlist\n",
    "                  )\n",
    " \n",
    "plt.imshow(df2, cmap=\"YlGnBu\", vmin=1,vmax=5)\n",
    "plt.colorbar()\n",
    "plt.xticks(range(len(df2.columns)),df2.columns)\n",
    "plt.yticks(range(len(df2)),df.index)\n",
    "plt.title('Not US Question Correlation',fontsize=20,fontweight=5)\n",
    "plt.show()"
   ]
  },
  {
   "cell_type": "code",
   "execution_count": 88,
   "metadata": {},
   "outputs": [
    {
     "data": {
      "text/plain": [
       "EXT    2.612051\n",
       "EST    3.219670\n",
       "OPN    3.677262\n",
       "CSN    3.238358\n",
       "AGR    3.537838\n",
       "Name: Question_1, dtype: float64"
      ]
     },
     "execution_count": 88,
     "metadata": {},
     "output_type": "execute_result"
    }
   ],
   "source": [
    "df2['Question_1']"
   ]
  },
  {
   "cell_type": "code",
   "execution_count": 94,
   "metadata": {},
   "outputs": [
    {
     "data": {
      "text/html": [
       "<div>\n",
       "<style scoped>\n",
       "    .dataframe tbody tr th:only-of-type {\n",
       "        vertical-align: middle;\n",
       "    }\n",
       "\n",
       "    .dataframe tbody tr th {\n",
       "        vertical-align: top;\n",
       "    }\n",
       "\n",
       "    .dataframe thead th {\n",
       "        text-align: right;\n",
       "    }\n",
       "</style>\n",
       "<table border=\"1\" class=\"dataframe\">\n",
       "  <thead>\n",
       "    <tr style=\"text-align: right;\">\n",
       "      <th></th>\n",
       "      <th>Question_1</th>\n",
       "      <th>Question_2</th>\n",
       "      <th>Question_3</th>\n",
       "      <th>Question_4</th>\n",
       "      <th>Question_5</th>\n",
       "      <th>Question_6</th>\n",
       "      <th>Question_7</th>\n",
       "      <th>Question_8</th>\n",
       "      <th>Question_9</th>\n",
       "      <th>Question_10</th>\n",
       "    </tr>\n",
       "  </thead>\n",
       "  <tbody>\n",
       "    <tr>\n",
       "      <th>EXT</th>\n",
       "      <td>0.066868</td>\n",
       "      <td>-0.091377</td>\n",
       "      <td>0.098385</td>\n",
       "      <td>-0.043129</td>\n",
       "      <td>0.066843</td>\n",
       "      <td>0.126058</td>\n",
       "      <td>0.081154</td>\n",
       "      <td>0.131373</td>\n",
       "      <td>-0.038955</td>\n",
       "      <td>0.008646</td>\n",
       "    </tr>\n",
       "    <tr>\n",
       "      <th>EST</th>\n",
       "      <td>0.123092</td>\n",
       "      <td>0.015373</td>\n",
       "      <td>0.064465</td>\n",
       "      <td>-0.043510</td>\n",
       "      <td>-0.279956</td>\n",
       "      <td>-0.083055</td>\n",
       "      <td>-0.100773</td>\n",
       "      <td>-0.181904</td>\n",
       "      <td>-0.004181</td>\n",
       "      <td>-0.167073</td>\n",
       "    </tr>\n",
       "    <tr>\n",
       "      <th>OPN</th>\n",
       "      <td>-0.042008</td>\n",
       "      <td>0.030066</td>\n",
       "      <td>0.008333</td>\n",
       "      <td>0.013017</td>\n",
       "      <td>0.109167</td>\n",
       "      <td>0.009824</td>\n",
       "      <td>-0.003057</td>\n",
       "      <td>-0.006850</td>\n",
       "      <td>0.054695</td>\n",
       "      <td>0.117669</td>\n",
       "    </tr>\n",
       "    <tr>\n",
       "      <th>CSN</th>\n",
       "      <td>0.110732</td>\n",
       "      <td>0.008849</td>\n",
       "      <td>0.086648</td>\n",
       "      <td>-0.122684</td>\n",
       "      <td>0.008444</td>\n",
       "      <td>-0.081643</td>\n",
       "      <td>0.170151</td>\n",
       "      <td>1.056224</td>\n",
       "      <td>0.283570</td>\n",
       "      <td>0.067853</td>\n",
       "    </tr>\n",
       "    <tr>\n",
       "      <th>AGR</th>\n",
       "      <td>0.384035</td>\n",
       "      <td>0.089198</td>\n",
       "      <td>0.027731</td>\n",
       "      <td>0.110753</td>\n",
       "      <td>0.101207</td>\n",
       "      <td>0.084113</td>\n",
       "      <td>0.147055</td>\n",
       "      <td>0.203757</td>\n",
       "      <td>0.059283</td>\n",
       "      <td>0.095354</td>\n",
       "    </tr>\n",
       "  </tbody>\n",
       "</table>\n",
       "</div>"
      ],
      "text/plain": [
       "     Question_1  Question_2  Question_3  Question_4  Question_5  Question_6  \\\n",
       "EXT    0.066868   -0.091377    0.098385   -0.043129    0.066843    0.126058   \n",
       "EST    0.123092    0.015373    0.064465   -0.043510   -0.279956   -0.083055   \n",
       "OPN   -0.042008    0.030066    0.008333    0.013017    0.109167    0.009824   \n",
       "CSN    0.110732    0.008849    0.086648   -0.122684    0.008444   -0.081643   \n",
       "AGR    0.384035    0.089198    0.027731    0.110753    0.101207    0.084113   \n",
       "\n",
       "     Question_7  Question_8  Question_9  Question_10  \n",
       "EXT    0.081154    0.131373   -0.038955     0.008646  \n",
       "EST   -0.100773   -0.181904   -0.004181    -0.167073  \n",
       "OPN   -0.003057   -0.006850    0.054695     0.117669  \n",
       "CSN    0.170151    1.056224    0.283570     0.067853  \n",
       "AGR    0.147055    0.203757    0.059283     0.095354  "
      ]
     },
     "execution_count": 94,
     "metadata": {},
     "output_type": "execute_result"
    }
   ],
   "source": [
    "df3=df-df2\n",
    "df3.head()\n"
   ]
  },
  {
   "cell_type": "code",
   "execution_count": 97,
   "metadata": {},
   "outputs": [
    {
     "data": {
      "image/png": "[encoded data removed]",
      "text/plain": [
       "<Figure size 1440x720 with 2 Axes>"
      ]
     },
     "metadata": {},
     "output_type": "display_data"
    }
   ],
   "source": [
    "plt.figure(figsize=(20,10))\n",
    "\n",
    "df3 = df-df2\n",
    " \n",
    "plt.imshow(df3, cmap=\"YlGnBu\")\n",
    "plt.colorbar()\n",
    "plt.xticks(range(len(df3.columns)),df3.columns)\n",
    "plt.yticks(range(len(df3)),df3.index)\n",
    "plt.title('Question Mean Differance Correlation',fontsize=20,fontweight=5)\n",
    "plt.show()"
   ]
  },
  {
   "cell_type": "code",
   "execution_count": 81,
   "metadata": {},
   "outputs": [
    {
     "name": "stdout",
     "output_type": "stream",
     "text": [
      "[3.1620017511979954, 2.993802114626533, 3.8851640923811894, 3.2627339204853536, 3.819154918741482]\n",
      "3.424571359486511\n"
     ]
    }
   ],
   "source": [
    "USTraitMeans=[np.mean(USMean[i]) for i in range(5)]\n",
    "print(USTraitMeans)\n"
   ]
  },
  {
   "cell_type": "code",
   "execution_count": 80,
   "metadata": {},
   "outputs": [
    {
     "name": "stdout",
     "output_type": "stream",
     "text": [
      "[3.0152144998567296, 3.0595544493056717, 3.856078529485979, 3.103919631516147, 3.58133866215043]\n",
      "3.424571359486511\n"
     ]
    }
   ],
   "source": [
    "OtherTraitMeans=[np.mean(OtherMean[i]) for i in range(5)]\n",
    "print(OtherTraitMeans)"
   ]
  },
  {
   "cell_type": "code",
   "execution_count": 18,
   "metadata": {},
   "outputs": [],
   "source": [
    "ans_fair = stats.chisquare(fair_freqs, expected_freqs, axis=0)"
   ]
  },
  {
   "cell_type": "code",
   "execution_count": 115,
   "metadata": {},
   "outputs": [
    {
     "data": {
      "text/html": [
       "<div>\n",
       "<style scoped>\n",
       "    .dataframe tbody tr th:only-of-type {\n",
       "        vertical-align: middle;\n",
       "    }\n",
       "\n",
       "    .dataframe tbody tr th {\n",
       "        vertical-align: top;\n",
       "    }\n",
       "\n",
       "    .dataframe thead th {\n",
       "        text-align: right;\n",
       "    }\n",
       "</style>\n",
       "<table border=\"1\" class=\"dataframe\">\n",
       "  <thead>\n",
       "    <tr style=\"text-align: right;\">\n",
       "      <th></th>\n",
       "      <th>Question_8</th>\n",
       "    </tr>\n",
       "  </thead>\n",
       "  <tbody>\n",
       "    <tr>\n",
       "      <th>EXT</th>\n",
       "      <td>3.475432</td>\n",
       "    </tr>\n",
       "    <tr>\n",
       "      <th>EST</th>\n",
       "      <td>2.599556</td>\n",
       "    </tr>\n",
       "    <tr>\n",
       "      <th>OPN</th>\n",
       "      <td>3.179293</td>\n",
       "    </tr>\n",
       "    <tr>\n",
       "      <th>CSN</th>\n",
       "      <td>3.613346</td>\n",
       "    </tr>\n",
       "    <tr>\n",
       "      <th>AGR</th>\n",
       "      <td>3.783401</td>\n",
       "    </tr>\n",
       "  </tbody>\n",
       "</table>\n",
       "</div>"
      ],
      "text/plain": [
       "     Question_8\n",
       "EXT    3.475432\n",
       "EST    2.599556\n",
       "OPN    3.179293\n",
       "CSN    3.613346\n",
       "AGR    3.783401"
      ]
     },
     "execution_count": 115,
     "metadata": {},
     "output_type": "execute_result"
    }
   ],
   "source": [
    "df[['Question_8']]"
   ]
  },
  {
   "cell_type": "code",
   "execution_count": 116,
   "metadata": {},
   "outputs": [
    {
     "data": {
      "text/html": [
       "<div>\n",
       "<style scoped>\n",
       "    .dataframe tbody tr th:only-of-type {\n",
       "        vertical-align: middle;\n",
       "    }\n",
       "\n",
       "    .dataframe tbody tr th {\n",
       "        vertical-align: top;\n",
       "    }\n",
       "\n",
       "    .dataframe thead th {\n",
       "        text-align: right;\n",
       "    }\n",
       "</style>\n",
       "<table border=\"1\" class=\"dataframe\">\n",
       "  <thead>\n",
       "    <tr style=\"text-align: right;\">\n",
       "      <th></th>\n",
       "      <th>Question_8</th>\n",
       "    </tr>\n",
       "  </thead>\n",
       "  <tbody>\n",
       "    <tr>\n",
       "      <th>EXT</th>\n",
       "      <td>3.344059</td>\n",
       "    </tr>\n",
       "    <tr>\n",
       "      <th>EST</th>\n",
       "      <td>2.781461</td>\n",
       "    </tr>\n",
       "    <tr>\n",
       "      <th>OPN</th>\n",
       "      <td>3.186143</td>\n",
       "    </tr>\n",
       "    <tr>\n",
       "      <th>CSN</th>\n",
       "      <td>2.557122</td>\n",
       "    </tr>\n",
       "    <tr>\n",
       "      <th>AGR</th>\n",
       "      <td>3.579644</td>\n",
       "    </tr>\n",
       "  </tbody>\n",
       "</table>\n",
       "</div>"
      ],
      "text/plain": [
       "     Question_8\n",
       "EXT    3.344059\n",
       "EST    2.781461\n",
       "OPN    3.186143\n",
       "CSN    2.557122\n",
       "AGR    3.579644"
      ]
     },
     "execution_count": 116,
     "metadata": {},
     "output_type": "execute_result"
    }
   ],
   "source": [
    "df2[['Question_8']]"
   ]
  },
  {
   "cell_type": "code",
   "execution_count": 127,
   "metadata": {},
   "outputs": [
    {
     "data": {
      "text/plain": [
       "0          2.0\n",
       "1          3.0\n",
       "2          2.0\n",
       "3          3.0\n",
       "4          1.0\n",
       "          ... \n",
       "1015323    2.0\n",
       "1015326    3.0\n",
       "1015329    2.0\n",
       "1015334    3.0\n",
       "1015335    3.0\n",
       "Name: CSN8, Length: 468938, dtype: float64"
      ]
     },
     "execution_count": 127,
     "metadata": {},
     "output_type": "execute_result"
    }
   ],
   "source": [
    "Not_USdf['CSN8']"
   ]
  },
  {
   "cell_type": "code",
   "execution_count": 129,
   "metadata": {},
   "outputs": [
    {
     "data": {
      "text/plain": [
       "Ttest_indResult(statistic=nan, pvalue=nan)"
      ]
     },
     "execution_count": 129,
     "metadata": {},
     "output_type": "execute_result"
    }
   ],
   "source": [
    "a=USdf['CSN8'].mean()\n",
    "b=Not_USdf['CSN8']\n",
    "stats.ttest_ind(a,b)"
   ]
  },
  {
   "cell_type": "code",
   "execution_count": 146,
   "metadata": {},
   "outputs": [],
   "source": [
    "a=USdf['CSN8'].mean()\n",
    "a1=USdf['CSN8'].std()\n",
    "a2=len(USdf['CSN8'])\n",
    "b=Not_USdf['CSN8'].mean()\n",
    "b1=b=Not_USdf['CSN8'].std()\n",
    "b2=len(USdf['CSN8'])\n",
    "US_normal = stats.norm.rvs(size=1000,loc=a,scale=a1)\n",
    "NotUS_normal=stats.norm.rvs(size=1000,loc=b,scale=b1)"
   ]
  },
  {
   "cell_type": "code",
   "execution_count": 147,
   "metadata": {},
   "outputs": [
    {
     "data": {
      "text/plain": [
       "Ttest_indResult(statistic=23.338836633910372, pvalue=9.776941134200975e-107)"
      ]
     },
     "execution_count": 147,
     "metadata": {},
     "output_type": "execute_result"
    }
   ],
   "source": [
    "stats.ttest_ind(US_normal,NotUS_normal)"
   ]
  }
 ],
 "metadata": {
  "kernelspec": {
   "display_name": "Python 3",
   "language": "python",
   "name": "python3"
  },
  "language_info": {
   "codemirror_mode": {
    "name": "ipython",
    "version": 3
   },
   "file_extension": ".py",
   "mimetype": "text/x-python",
   "name": "python",
   "nbconvert_exporter": "python",
   "pygments_lexer": "ipython3",
   "version": "3.7.7"
  }
 },
 "nbformat": 4,
 "nbformat_minor": 4
}
